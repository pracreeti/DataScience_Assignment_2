{
 "cells": [
  {
   "cell_type": "code",
   "execution_count": 1,
   "id": "21459695-d5c1-4008-b8f9-248ab55ab101",
   "metadata": {},
   "outputs": [
    {
     "name": "stdout",
     "output_type": "stream",
     "text": [
      "Dot product: 32\n"
     ]
    }
   ],
   "source": [
    "import numpy as np\n",
    "\n",
    "arrayOne = np.array([1, 2, 3])\n",
    "arrayTwo = np.array([4, 5, 6])\n",
    "\n",
    "dotProduct = np.dot(arrayOne, arrayTwo)\n",
    "\n",
    "print(\"Dot product:\", dotProduct)"
   ]
  },
  {
   "cell_type": "code",
   "execution_count": 2,
   "id": "64f8c5c6-b13c-4169-82a8-ed2fac66f202",
   "metadata": {},
   "outputs": [
    {
     "name": "stdout",
     "output_type": "stream",
     "text": [
      "[[ 58  64]\n",
      " [139 154]]\n"
     ]
    }
   ],
   "source": [
    "import numpy as np\n",
    "\n",
    "A = np.array([[1, 2, 3],[4, 5, 6]])\n",
    "B = np.array([[7, 8],[9, 10],[11, 12]])\n",
    "C = np.dot(A, B)\n",
    "\n",
    "print(C)"
   ]
  },
  {
   "cell_type": "code",
   "execution_count": 3,
   "id": "782c8786-9261-4fda-9032-c05c0d4b9268",
   "metadata": {},
   "outputs": [
    {
     "name": "stdout",
     "output_type": "stream",
     "text": [
      "Determinant: -2.0000000000000004\n",
      "Inverse:\n",
      " [[-2.   1. ]\n",
      " [ 1.5 -0.5]]\n"
     ]
    }
   ],
   "source": [
    "import numpy as np\n",
    "\n",
    "matrix = np.array([[1, 2],[3, 4]])\n",
    "determinant = np.linalg.det(matrix)\n",
    "inverse = np.linalg.inv(matrix)\n",
    "\n",
    "print(\"Determinant:\", determinant)\n",
    "print(\"Inverse:\\n\", inverse)"
   ]
  }
 ],
 "metadata": {
  "kernelspec": {
   "display_name": "Python 3 (ipykernel)",
   "language": "python",
   "name": "python3"
  },
  "language_info": {
   "codemirror_mode": {
    "name": "ipython",
    "version": 3
   },
   "file_extension": ".py",
   "mimetype": "text/x-python",
   "name": "python",
   "nbconvert_exporter": "python",
   "pygments_lexer": "ipython3",
   "version": "3.12.7"
  }
 },
 "nbformat": 4,
 "nbformat_minor": 5
}
