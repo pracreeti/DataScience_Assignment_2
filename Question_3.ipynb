{
 "cells": [
  {
   "cell_type": "code",
   "execution_count": 1,
   "id": "0bf1079b-267a-4849-bff5-bbc8095c52d6",
   "metadata": {},
   "outputs": [
    {
     "name": "stdout",
     "output_type": "stream",
     "text": [
      "First row: [1 2 3]\n",
      "Last column: [3 6 9]\n"
     ]
    }
   ],
   "source": [
    "import numpy as np\n",
    "\n",
    "array = np.array([[1, 2, 3],[4, 5, 6],[7, 8, 9]])\n",
    "\n",
    "firstRow = array[0, :]\n",
    "lastColumn = array[:, -1]\n",
    "\n",
    "print(\"First row:\", firstRow)\n",
    "print(\"Last column:\", lastColumn)"
   ]
  },
  {
   "cell_type": "code",
   "execution_count": 2,
   "id": "62bd4000-d883-4304-a017-4240e71b96bb",
   "metadata": {},
   "outputs": [
    {
     "name": "stdout",
     "output_type": "stream",
     "text": [
      "[5 4 3 2 1]\n"
     ]
    }
   ],
   "source": [
    "import numpy as np\n",
    "\n",
    "array = np.array([1, 2, 3, 4, 5])\n",
    "reversedArray = array[::-1]\n",
    "\n",
    "print(reversedArray)"
   ]
  },
  {
   "cell_type": "code",
   "execution_count": 3,
   "id": "3d2e20e6-feaf-434e-94f6-fd8ea1d971f9",
   "metadata": {},
   "outputs": [
    {
     "name": "stdout",
     "output_type": "stream",
     "text": [
      "[5 6 7 8 9]\n"
     ]
    }
   ],
   "source": [
    "import numpy as np\n",
    "\n",
    "array = np.array([[1, 2, 3],[4, 5, 6],[7, 8, 9]])\n",
    "threshold = 4\n",
    "selected_elements = array[array > threshold]\n",
    "\n",
    "print(selected_elements)"
   ]
  }
 ],
 "metadata": {
  "kernelspec": {
   "display_name": "Python 3 (ipykernel)",
   "language": "python",
   "name": "python3"
  },
  "language_info": {
   "codemirror_mode": {
    "name": "ipython",
    "version": 3
   },
   "file_extension": ".py",
   "mimetype": "text/x-python",
   "name": "python",
   "nbconvert_exporter": "python",
   "pygments_lexer": "ipython3",
   "version": "3.12.7"
  }
 },
 "nbformat": 4,
 "nbformat_minor": 5
}
